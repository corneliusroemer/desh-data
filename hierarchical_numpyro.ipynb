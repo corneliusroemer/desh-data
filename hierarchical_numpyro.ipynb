{
 "cells": [
  {
   "cell_type": "code",
   "execution_count": null,
   "metadata": {
    "execution": {
     "iopub.execute_input": "2021-12-28T17:35:09.449521Z",
     "iopub.status.busy": "2021-12-28T17:35:09.448948Z",
     "iopub.status.idle": "2021-12-28T17:35:13.007294Z",
     "shell.execute_reply": "2021-12-28T17:35:13.007668Z"
    }
   },
   "outputs": [],
   "source": [
    "import datetime as dt\n",
    "import arviz as az\n",
    "import matplotlib.pyplot as plt\n",
    "import numpy as np\n",
    "import numpyro\n",
    "import numpyro.distributions as dist\n",
    "import pandas as pd\n",
    "from jax import random\n",
    "from numpyro.infer import MCMC, NUTS\n",
    "from sklearn.preprocessing import LabelEncoder\n",
    "import seaborn as sns\n",
    "from scipy.special import expit\n",
    "import matplotlib.ticker as mtick\n",
    "\n",
    "assert numpyro.__version__.startswith(\"0.8.0\")"
   ]
  },
  {
   "cell_type": "code",
   "execution_count": null,
   "metadata": {
    "execution": {
     "iopub.execute_input": "2021-12-28T17:35:13.013488Z",
     "iopub.status.busy": "2021-12-28T17:35:13.013026Z",
     "iopub.status.idle": "2021-12-28T17:35:13.876118Z",
     "shell.execute_reply": "2021-12-28T17:35:13.875249Z"
    }
   },
   "outputs": [],
   "source": [
    "df = pd.read_csv(\n",
    "    'data/meta_lineages.csv',\n",
    "    index_col=0,\n",
    "    parse_dates=[1,3],\n",
    "    infer_datetime_format=True,\n",
    "    cache_dates=True,\n",
    "    dtype = {'SEQ_REASON': 'category',\n",
    "             'SENDING_LAB_PC': 'category',\n",
    "             'SEQUENCING_LAB_PC': 'category',\n",
    "             'lineage': 'category',\n",
    "             'scorpio_call': 'category'\n",
    "             }\n",
    ")\n",
    "df.rename(columns={\n",
    "    'DATE_DRAW': 'date',\n",
    "    'PROCESSING_DATE': 'processing_date',\n",
    "    'SEQ_REASON': 'reason',\n",
    "    'SENDING_LAB_PC': 'sending_pc',\n",
    "    'SEQUENCING_LAB_PC': 'sequencing_pc',\n",
    "    'lineage': 'lineage',\n",
    "    'scorpio_call': 'scorpio'\n",
    "    },\n",
    "    inplace=True\n",
    ")"
   ]
  },
  {
   "cell_type": "code",
   "execution_count": null,
   "metadata": {
    "execution": {
     "iopub.execute_input": "2021-12-28T17:35:13.884110Z",
     "iopub.status.busy": "2021-12-28T17:35:13.883623Z",
     "iopub.status.idle": "2021-12-28T17:35:15.009784Z",
     "shell.execute_reply": "2021-12-28T17:35:15.008833Z"
    }
   },
   "outputs": [],
   "source": [
    "df = df[df.date > '2021-10-01']\n",
    "df = df[df.reason.isin(['N'])]\n",
    "df['omi'] = df.lineage.apply(lambda x: int((x == 'BA.1')))\n",
    "all = df.groupby(['sending_pc','date'])['omi'].count()\n",
    "omi = df.groupby(['sending_pc','date'])['omi'].apply(lambda x: (x == 1).sum()).fillna(0).astype(int)\n",
    "df_reshaped = pd.concat({'all': all, 'omi': omi}, axis=1).reset_index()\n",
    "today = pd.Timestamp(str(dt.date.today()))\n",
    "df_reshaped['days'] = (df_reshaped.date-today).dt.days\n",
    "df_reshaped['sending_area'] = df_reshaped.sending_pc.apply(lambda x: int(x[0]))\n",
    "lab_counts = df_reshaped[df_reshaped.date > '2021-12-01'].groupby('sending_pc')['all'].sum()\n",
    "# df_filtered = df_reshaped[df_reshaped.sending_pc.isin(lab_counts[lab_counts>10].index) & (~df_reshaped.sending_pc.isin(['']))].copy()\n",
    "df_filtered = df_reshaped[df_reshaped.sending_pc.isin(lab_counts[lab_counts>10].index) & (~df_reshaped.sending_pc.isin(['22767','70193','24106']))].copy()\n",
    "le = LabelEncoder()\n",
    "df_filtered['sending_pc_ID'] = le.fit_transform(df_filtered['sending_pc'].values)\n",
    "omi_counts = df_filtered[\"omi\"].values\n",
    "total_counts = df_filtered[\"all\"].values\n",
    "sample_day = df_filtered[\"days\"].values\n",
    "sending_pc_ID = df_filtered['sending_pc_ID'].values\n",
    "sending_area = df_filtered['sending_area'].values"
   ]
  },
  {
   "cell_type": "code",
   "execution_count": null,
   "metadata": {
    "execution": {
     "iopub.execute_input": "2021-12-28T17:35:15.016581Z",
     "iopub.status.busy": "2021-12-28T17:35:15.016091Z",
     "iopub.status.idle": "2021-12-28T17:35:15.018840Z",
     "shell.execute_reply": "2021-12-28T17:35:15.019199Z"
    }
   },
   "outputs": [],
   "source": [
    "def model3(sending_pc, sending_area, sample_day, total_counts,omi_counts=None):\n",
    "    mu_a_mu = numpyro.sample(\"mu_a_mu\", dist.Normal(0, 3.0))\n",
    "    mu_a_sigma = numpyro.sample(\"mu_a_sigma\", dist.HalfNormal(2.0))\n",
    "    sigma_a = numpyro.sample(\"sigma_a\", dist.HalfNormal(2.0))\n",
    "    b = numpyro.sample(\"b\", dist.Normal(0.2, 0.2))\n",
    "\n",
    "\n",
    "    n_labs = len(np.unique(sending_pc))\n",
    "    n_areas = len(np.unique(sending_area))\n",
    "\n",
    "    sending_pc_to_area = pd.DataFrame({\"sending_pc\": sending_pc, \"sending_area\": sending_area}).groupby(['sending_pc']).sending_area.first().values\n",
    "\n",
    "    with numpyro.plate(\"plate_i\", n_areas):\n",
    "        mu_a = numpyro.sample(\"mu_a\", dist.Normal(mu_a_mu, mu_a_sigma))\n",
    "\n",
    "    with numpyro.plate(\"plate_j\", n_labs):\n",
    "        a = numpyro.sample(\"a\", dist.Normal(mu_a[sending_pc_to_area], sigma_a))\n",
    "\n",
    "    logit_est = a[sending_pc] + b * sample_day\n",
    "\n",
    "\n",
    "    with numpyro.plate(\"data\", len(sending_pc)):\n",
    "        numpyro.sample(\"obs\", dist.BinomialLogits(logits=logit_est, total_count=total_counts), obs=omi_counts)\n"
   ]
  },
  {
   "cell_type": "code",
   "execution_count": null,
   "metadata": {
    "execution": {
     "iopub.execute_input": "2021-12-28T17:35:15.023382Z",
     "iopub.status.busy": "2021-12-28T17:35:15.022928Z",
     "iopub.status.idle": "2021-12-28T17:35:36.360203Z",
     "shell.execute_reply": "2021-12-28T17:35:36.359421Z"
    }
   },
   "outputs": [],
   "source": [
    "nuts_kernel = NUTS(model3)\n",
    "\n",
    "mcmc = MCMC(nuts_kernel, num_samples=5000, num_warmup=2000)\n",
    "rng_key = random.PRNGKey(0)\n",
    "mcmc.run(rng_key, sending_pc_ID, sending_area, sample_day, total_counts, omi_counts=omi_counts)"
   ]
  },
  {
   "cell_type": "code",
   "execution_count": null,
   "metadata": {
    "execution": {
     "iopub.execute_input": "2021-12-28T17:35:36.364230Z",
     "iopub.status.busy": "2021-12-28T17:35:36.363766Z",
     "iopub.status.idle": "2021-12-28T17:35:36.494771Z",
     "shell.execute_reply": "2021-12-28T17:35:36.494331Z"
    }
   },
   "outputs": [],
   "source": [
    "mcmc.print_summary()"
   ]
  },
  {
   "cell_type": "code",
   "execution_count": null,
   "metadata": {
    "execution": {
     "iopub.execute_input": "2021-12-28T17:35:36.499022Z",
     "iopub.status.busy": "2021-12-28T17:35:36.497855Z",
     "iopub.status.idle": "2021-12-28T17:35:40.809429Z",
     "shell.execute_reply": "2021-12-28T17:35:40.809820Z"
    }
   },
   "outputs": [],
   "source": [
    "data = az.from_numpyro(mcmc)\n",
    "az.plot_trace(data,compact=True)\n",
    "plt.tight_layout()"
   ]
  },
  {
   "cell_type": "code",
   "execution_count": null,
   "metadata": {
    "execution": {
     "iopub.execute_input": "2021-12-28T17:35:40.815112Z",
     "iopub.status.busy": "2021-12-28T17:35:40.814573Z",
     "iopub.status.idle": "2021-12-28T17:35:40.899300Z",
     "shell.execute_reply": "2021-12-28T17:35:40.899731Z"
    }
   },
   "outputs": [],
   "source": [
    "s = numpyro.diagnostics.summary(mcmc.get_samples(group_by_chain=True))\n",
    "\n",
    "print(f\"\"\"\n",
    "    Relatives tägliches Wachstum von Omikron gegenüber Delta:\n",
    "    {np.exp(s['b']['mean'])-1:.1%} mit 90%-Konfidenzintervall [{np.exp(s['b']['5.0%'])-1:.1%}, {np.exp(s['b']['95.0%'])-1:.1%}]\n",
    "    Relative Verdopplungszeit von Omikron gegenüber Delta:\n",
    "    {np.log(2)/np.log(1+s['b']['mean']):.2} Tage mit 90)%-Konfidenzintervall [{np.log(2)/np.log(1+s['b']['95.0%']):.2},{np.log(2)/np.log(1+s['b']['5.0%']):.2}]\n",
    "    \"\"\")"
   ]
  },
  {
   "cell_type": "code",
   "execution_count": null,
   "metadata": {
    "execution": {
     "iopub.execute_input": "2021-12-28T17:35:40.914427Z",
     "iopub.status.busy": "2021-12-28T17:35:40.913920Z",
     "iopub.status.idle": "2021-12-28T17:35:44.320859Z",
     "shell.execute_reply": "2021-12-28T17:35:44.321280Z"
    }
   },
   "outputs": [],
   "source": [
    "pdf = pd.DataFrame(s['a'])\n",
    "pdf['plz'] = le.inverse_transform(pdf.index.values)\n",
    "pdf.set_index('plz',inplace=True)\n",
    "pdf.sort_values(by='median',inplace=True)\n",
    "errors = ([expit(pdf['median'])-expit(pdf['5.0%']),expit(pdf['95.0%'])-expit(pdf['median'])])\n",
    "sns.set_theme(style=\"whitegrid\")\n",
    "fig, ax = plt.subplots(figsize=(5,30)) \n",
    "ax.errorbar(x=expit(pdf['median'].values),y=pdf.index.values,xerr=errors,linestyle='None',marker='o')\n",
    "sns.despine(left=True, bottom=True)\n",
    "ax.set_ylim(-0.5,len(pdf)-0.5)\n",
    "ax.tick_params(axis='both', which='major', labelbottom = True, bottom=False, top = False, labeltop=True)\n",
    "ax.tick_params(axis='both', which='minor', labelbottom = False, bottom=False, top = False, labeltop=False)\n",
    "ax.set_xscale('logit')\n",
    "ax.xaxis.set_major_formatter(mtick.PercentFormatter(1.0, decimals=1))\n",
    "ax.set(title=f'Modellierter Omikron-Anteil nach PCR-Labor-PLZ am {today.strftime(\"%d.%m.%Y\")}')\n",
    "ax.set_ylabel(\"Postleitzahl des PCR-Probe-versendenden Labors\")\n",
    "ax.set_xlabel(\"Heutiger Omikron-Anteil in Surveillance-Proben mit 90%-KI\")\n",
    "plt.subplots_adjust(left=0.05, right=0.95, top=0.9, bottom=0.02)\n",
    "fig.text(0.49, -0.003, f\"Datenstand: {str(dt.date.today())} | Datenquelle: RKI Sequenzdaten https://doi.org/10.5281/zenodo.5139363 | Analyse: @CorneliusRoemer\", size=6, va=\"bottom\", ha=\"center\")\n",
    "fig.savefig(\"plots/omi_share_by_pc.png\",dpi=300,bbox_inches='tight',pad_inches=0.2)"
   ]
  },
  {
   "cell_type": "markdown",
   "metadata": {},
   "source": [
    "Es gibt drei klare Ausreißer die entfernt wurden. Für mehr Details zu Outliern siehe das Notebook [Outlier Labs](outlier_labs.ipynb)."
   ]
  },
  {
   "cell_type": "code",
   "execution_count": null,
   "metadata": {
    "execution": {
     "iopub.execute_input": "2021-12-28T17:35:44.340375Z",
     "iopub.status.busy": "2021-12-28T17:35:44.329398Z",
     "iopub.status.idle": "2021-12-28T17:35:44.830902Z",
     "shell.execute_reply": "2021-12-28T17:35:44.831283Z"
    }
   },
   "outputs": [],
   "source": [
    "pdf = pd.DataFrame(s['mu_a'])\n",
    "pdf.sort_values(by='median',inplace=True)\n",
    "errors = ([expit(pdf['median'])-expit(pdf['5.0%']),expit(pdf['95.0%'])-expit(pdf['median'])])\n",
    "fig, ax = plt.subplots(figsize=(5,4)) \n",
    "sns.set_theme(style=\"whitegrid\")\n",
    "ax.errorbar(x=expit(pdf['median'].values),y=pdf.index.values.astype(str),xerr=errors,linestyle='None',marker='o')\n",
    "sns.despine(left=True, bottom=True)\n",
    "ax.set(title='Title')\n",
    "ax.set_ylim(-0.5,len(pdf)-0.5)\n",
    "ax.set_xscale('logit')\n",
    "ax.xaxis.set_major_formatter(mtick.PercentFormatter(1.0))\n",
    "ax.tick_params(axis='both', which='major', labelbottom = True, bottom=False, top = False, labeltop=True)\n",
    "ax.tick_params(axis='both', which='minor', labelbottom = False, bottom=False, top = False, labeltop=False)\n",
    "ax.set(title=f'Modellierter Omikron-Anteil nach Postleitzahlgebiet am {today.strftime(\"%d.%m.%Y\")}')\n",
    "ax.set_ylabel(\"Postleitzahlgebiet des PCR-Labors\")\n",
    "ax.set_xlabel(\"Heutiger Omikron-Anteil in Surveillance-Proben mit 90%-KI\")\n",
    "plt.subplots_adjust(left=0.05, right=0.95, top=0.9, bottom=0.15)\n",
    "fig.text(0.5, -0.01, f\"Datenstand: {str(dt.date.today())} | Datenquelle: RKI Sequenzdaten https://doi.org/10.5281/zenodo.5139363 | Analyse: @CorneliusRoemer\", size=6, va=\"bottom\", ha=\"center\")\n",
    "fig.savefig(\"plots/omi_share_by_area.png\",dpi=200,bbox_inches='tight',pad_inches=0.2)"
   ]
  }
 ],
 "metadata": {
  "interpreter": {
   "hash": "15008f8347171a2128547983e1278a0bab7a00b4575d1c82f19dcd9f5c4d4af3"
  },
  "kernelspec": {
   "display_name": "Python 3.10.1 64-bit (conda)",
   "language": "python",
   "name": "python3"
  },
  "language_info": {
   "codemirror_mode": {
    "name": "ipython",
    "version": 3
   },
   "file_extension": ".py",
   "mimetype": "text/x-python",
   "name": "python",
   "nbconvert_exporter": "python",
   "pygments_lexer": "ipython3",
   "version": "3.10.1"
  }
 },
 "nbformat": 4,
 "nbformat_minor": 2
}
