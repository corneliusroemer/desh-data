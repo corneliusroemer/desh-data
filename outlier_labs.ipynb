{
 "cells": [
  {
   "cell_type": "code",
   "execution_count": null,
   "metadata": {
    "execution": {
     "iopub.execute_input": "2021-12-28T03:56:46.854408Z",
     "iopub.status.busy": "2021-12-28T03:56:46.852192Z",
     "iopub.status.idle": "2021-12-28T03:56:49.192199Z",
     "shell.execute_reply": "2021-12-28T03:56:49.192582Z"
    }
   },
   "outputs": [],
   "source": [
    "import datetime as dt\n",
    "import arviz as az\n",
    "import matplotlib.pyplot as plt\n",
    "import numpy as np\n",
    "import numpyro\n",
    "import numpyro.distributions as dist\n",
    "import pandas as pd\n",
    "from jax import random\n",
    "from numpyro.infer import MCMC, NUTS, Predictive\n",
    "from sklearn.preprocessing import LabelEncoder\n",
    "import seaborn as sns\n",
    "from scipy.special import expit, logit\n",
    "import matplotlib.ticker as mtick\n",
    "from numpyro.infer.reparam import LocScaleReparam\n",
    "from numpyro.handlers import reparam\n",
    "\n",
    "assert numpyro.__version__.startswith(\"0.8.0\")"
   ]
  },
  {
   "cell_type": "code",
   "execution_count": null,
   "metadata": {
    "execution": {
     "iopub.execute_input": "2021-12-28T03:56:49.199122Z",
     "iopub.status.busy": "2021-12-28T03:56:49.198652Z",
     "iopub.status.idle": "2021-12-28T03:56:50.382064Z",
     "shell.execute_reply": "2021-12-28T03:56:50.381171Z"
    }
   },
   "outputs": [],
   "source": [
    "df = pd.read_csv(\n",
    "    'data/meta_lineages.csv',\n",
    "    index_col=0,\n",
    "    parse_dates=[1,3],\n",
    "    infer_datetime_format=True,\n",
    "    cache_dates=True,\n",
    "    dtype = {'SEQ_REASON': 'category',\n",
    "             'SENDING_LAB_PC': 'category',\n",
    "             'SEQUENCING_LAB_PC': 'category',\n",
    "             'lineage': 'category',\n",
    "             'scorpio_call': 'category'\n",
    "             }\n",
    ")\n",
    "df.rename(columns={\n",
    "    'DATE_DRAW': 'date',\n",
    "    'PROCESSING_DATE': 'processing_date',\n",
    "    'SEQ_REASON': 'reason',\n",
    "    'SENDING_LAB_PC': 'sending_pc',\n",
    "    'SEQUENCING_LAB_PC': 'sequencing_pc',\n",
    "    'lineage': 'lineage',\n",
    "    'scorpio_call': 'scorpio'\n",
    "    },\n",
    "    inplace=True\n",
    ")"
   ]
  },
  {
   "cell_type": "code",
   "execution_count": null,
   "metadata": {
    "execution": {
     "iopub.execute_input": "2021-12-28T03:56:50.389867Z",
     "iopub.status.busy": "2021-12-28T03:56:50.389404Z",
     "iopub.status.idle": "2021-12-28T03:56:51.508794Z",
     "shell.execute_reply": "2021-12-28T03:56:51.508286Z"
    }
   },
   "outputs": [],
   "source": [
    "df = df[df.date > '2021-11-01']\n",
    "df = df[df.reason.isin(['N'])]\n",
    "df['omi'] = df.lineage.apply(lambda x: int((x == 'BA.1')))\n",
    "all = df.groupby(['sending_pc','date'])['omi'].count()\n",
    "omi = df.groupby(['sending_pc','date'])['omi'].apply(lambda x: (x == 1).sum()).fillna(0).astype(int)\n",
    "df_reshaped = pd.concat({'all': all, 'omi': omi}, axis=1).reset_index()\n",
    "today = pd.Timestamp(str(dt.date.today()))\n",
    "df_reshaped['days'] = (df_reshaped.date-today).dt.days\n",
    "df_reshaped['sending_area'] = df_reshaped.sending_pc.apply(lambda x: int(x[0]))\n",
    "lab_counts = df_reshaped[df_reshaped.date > '2021-12-01'].groupby('sending_pc')['all'].sum()\n",
    "# df_filtered = df_reshaped[df_reshaped.sending_pc.isin(lab_counts[lab_counts>10].index) & (~df_reshaped.sending_pc.isin(['22767','70193','24106']))].copy()\n",
    "df_filtered = df_reshaped[df_reshaped.sending_pc.isin(lab_counts[lab_counts>10].index) & (~df_reshaped.sending_pc.isin(['']))].copy()\n",
    "le = LabelEncoder()\n",
    "df_filtered['sending_pc_ID'] = le.fit_transform(df_filtered['sending_pc'].values)\n",
    "omi_counts = df_filtered[\"omi\"].values\n",
    "total_counts = df_filtered[\"all\"].values\n",
    "sample_day = df_filtered[\"days\"].values\n",
    "sending_pc_ID = df_filtered['sending_pc_ID'].values\n",
    "sending_area = df_filtered['sending_area'].values"
   ]
  },
  {
   "cell_type": "code",
   "execution_count": null,
   "metadata": {
    "execution": {
     "iopub.execute_input": "2021-12-28T03:56:51.516630Z",
     "iopub.status.busy": "2021-12-28T03:56:51.515501Z",
     "iopub.status.idle": "2021-12-28T03:56:51.517142Z",
     "shell.execute_reply": "2021-12-28T03:56:51.517497Z"
    }
   },
   "outputs": [],
   "source": [
    "# reparam_config = {\"a\": LocScaleReparam(0) for k in [\"mu_a\", \"a\"]}\n",
    "\n",
    "# @numpyro.handlers.reparam(config=reparam_config)\n",
    "# Reparametrization doesn't seem to work with discrete latent variable\n",
    "def model(sending_pc, sample_day, total_counts,omi_counts=None):\n",
    "    mu_a = numpyro.sample(\"mu_a\", dist.Normal(0, 5.0))\n",
    "    sigma_a = numpyro.sample(\"sigma_a\", dist.HalfNormal(3.0))\n",
    "    b = numpyro.sample(\"b\", dist.Normal(0.2, 0.2))\n",
    "    outlier_p = numpyro.sample(\"outlier_p\", dist.Beta(1, 20))\n",
    "    outlier_sigma = numpyro.sample(\"outlier_sigma\", dist.TruncatedNormal(0.1,1,1))\n",
    "\n",
    "    n_labs = len(np.unique(sending_pc))\n",
    "\n",
    "    with numpyro.plate(\"plate_j\", n_labs):\n",
    "        outlier = numpyro.sample(\"outlier\", dist.Bernoulli(outlier_p))\n",
    "\n",
    "        a = numpyro.sample(\"a\", dist.Normal(mu_a, sigma_a * (1+outlier_sigma * outlier)))\n",
    "\n",
    "    logit_est = a[sending_pc] + b * sample_day\n",
    "\n",
    "    with numpyro.plate(\"data\", len(sending_pc)):\n",
    "        numpyro.sample(\"obs\", dist.BinomialLogits(logits=logit_est, total_count=total_counts), obs=omi_counts)"
   ]
  },
  {
   "cell_type": "code",
   "execution_count": null,
   "metadata": {
    "execution": {
     "iopub.execute_input": "2021-12-28T03:56:51.521324Z",
     "iopub.status.busy": "2021-12-28T03:56:51.520878Z",
     "iopub.status.idle": "2021-12-28T03:57:12.953896Z",
     "shell.execute_reply": "2021-12-28T03:57:12.953398Z"
    }
   },
   "outputs": [],
   "source": [
    "nuts_kernel = NUTS(model)\n",
    "\n",
    "mcmc = MCMC(nuts_kernel, num_samples=5000, num_warmup=2000)\n",
    "rng_key = random.PRNGKey(0)\n",
    "mcmc.run(rng_key, sending_pc_ID, sample_day, total_counts, omi_counts=omi_counts)"
   ]
  },
  {
   "cell_type": "code",
   "execution_count": null,
   "metadata": {
    "execution": {
     "iopub.execute_input": "2021-12-28T03:57:12.957895Z",
     "iopub.status.busy": "2021-12-28T03:57:12.957371Z",
     "iopub.status.idle": "2021-12-28T03:57:13.089683Z",
     "shell.execute_reply": "2021-12-28T03:57:13.090087Z"
    }
   },
   "outputs": [],
   "source": [
    "mcmc.print_summary()"
   ]
  },
  {
   "cell_type": "code",
   "execution_count": null,
   "metadata": {},
   "outputs": [],
   "source": [
    "posterior_samples = mcmc.get_samples()\n",
    "predictive = Predictive(model, posterior_samples, infer_discrete=True)\n",
    "discrete_samples = predictive(random.PRNGKey(1),sending_pc_ID, sample_day, total_counts, omi_counts=omi_counts)\n",
    "posterior_samples[\"outlier\"] = discrete_samples[\"outlier\"]\n",
    "inference_data = az.from_numpyro(\n",
    "    posterior=mcmc,\n",
    "    posterior_predictive=discrete_samples,\n",
    ")\n",
    "data = az.from_numpyro(mcmc)\n",
    "az.plot_trace(data,compact=True)\n",
    "plt.tight_layout()"
   ]
  },
  {
   "cell_type": "code",
   "execution_count": null,
   "metadata": {
    "execution": {
     "iopub.execute_input": "2021-12-28T03:57:17.499877Z",
     "iopub.status.busy": "2021-12-28T03:57:17.499414Z",
     "iopub.status.idle": "2021-12-28T03:57:21.065580Z",
     "shell.execute_reply": "2021-12-28T03:57:21.064827Z"
    }
   },
   "outputs": [],
   "source": [
    "summary = numpyro.diagnostics.summary(posterior_samples,group_by_chain=False)"
   ]
  },
  {
   "cell_type": "code",
   "execution_count": null,
   "metadata": {},
   "outputs": [],
   "source": [
    "pdf = pd.DataFrame(summary['a'])\n",
    "pdf['outlier_p'] = summary['outlier']['mean']\n",
    "pdf['plz'] = le.inverse_transform(pdf.index.values)\n",
    "pdf.set_index('plz',inplace=True)\n",
    "pdf.sort_values(by='outlier_p',inplace=True)\n",
    "pdf"
   ]
  },
  {
   "cell_type": "code",
   "execution_count": null,
   "metadata": {},
   "outputs": [],
   "source": [
    "sns.set_theme(style=\"whitegrid\")\n",
    "fig, (ax1, ax2) = plt.subplots(1,2,figsize=(10,30))\n",
    "\n",
    "ax1.scatter(pdf['outlier_p'].values,pdf.index.values,linestyle='None',marker='o')\n",
    "sns.despine(left=True, bottom=True)\n",
    "ax1.set_ylim(-0.5,len(pdf)-0.5)\n",
    "ax1.tick_params(axis='both', which='major', labelbottom = True, bottom=False, top = False, labeltop=True)\n",
    "ax1.tick_params(axis='both', which='minor', labelbottom = False, bottom=False, top = False, labeltop=False)\n",
    "ax1.set_xscale('logit')\n",
    "# ax1.xaxis.set_major_formatter(mtick.PercentFormatter(1.0, decimals=1))\n",
    "ax1.set(title=f'Outlierness-Maß nach PCR-Labor-PLZ')\n",
    "ax1.set_ylabel(\"Postleitzahl des PCR-Probe-versendenden Labors\")\n",
    "ax1.set_xlabel(\"Outlierness-Maß zwischen 0% (kein Outlier) und 100% (sicherer Outlier)\")\n",
    "\n",
    "\n",
    "errors = ([expit(pdf['median'])-expit(pdf['5.0%']),expit(pdf['95.0%'])-expit(pdf['median'])])\n",
    "ax2.errorbar(x=expit(pdf['median'].values),y=pdf.index.values,xerr=errors,linestyle='None',marker='o')\n",
    "sns.despine(left=True, bottom=True)\n",
    "ax2.set_ylim(-0.5,len(pdf)-0.5)\n",
    "ax2.tick_params(axis='both', which='major', labelbottom = True, bottom=False, top = False, labeltop=True)\n",
    "ax2.tick_params(axis='both', which='minor', labelbottom = False, bottom=False, top = False, labeltop=False)\n",
    "ax2.set_xscale('logit')\n",
    "# ax2.xaxis.set_major_formatter(mtick.PercentFormatter(1.0, decimals=1))\n",
    "ax2.set(title=f'Modellierter Omikron-Anteil nach PCR-Labor-PLZ am {today.strftime(\"%d.%m.%Y\")}')\n",
    "ax2.set_ylabel(\"Postleitzahl des PCR-Probe-versendenden Labors\")\n",
    "ax2.set_xlabel(\"Heutiger Omikron-Anteil in Surveillance-Proben mit 90%-KI\")\n",
    "\n",
    "plt.subplots_adjust(left=0.05, right=0.95, top=0.95, bottom=0.02)\n",
    "fig.text(0.49, -0.003, f\"Datenstand: {str(dt.date.today())} | Datenquelle: RKI Sequenzdaten https://doi.org/10.5281/zenodo.5139363 | Analyse: @CorneliusRoemer\", size=6, va=\"bottom\", ha=\"center\")\n",
    "fig.suptitle(\"Outlieridentifikation in der repräsentativen Surveillance (Proben mit Grund 'N')\")\n",
    "fig.savefig(\"plots/omi_outlierness_by_pc.png\",dpi=300,bbox_inches='tight',pad_inches=0.2)"
   ]
  },
  {
   "cell_type": "code",
   "execution_count": null,
   "metadata": {},
   "outputs": [],
   "source": []
  }
 ],
 "metadata": {
  "interpreter": {
   "hash": "15008f8347171a2128547983e1278a0bab7a00b4575d1c82f19dcd9f5c4d4af3"
  },
  "kernelspec": {
   "display_name": "Python 3.10.1 64-bit (conda)",
   "language": "python",
   "name": "python3"
  },
  "language_info": {
   "codemirror_mode": {
    "name": "ipython",
    "version": 3
   },
   "file_extension": ".py",
   "mimetype": "text/x-python",
   "name": "python",
   "nbconvert_exporter": "python",
   "pygments_lexer": "ipython3",
   "version": "3.10.1"
  }
 },
 "nbformat": 4,
 "nbformat_minor": 2
}
